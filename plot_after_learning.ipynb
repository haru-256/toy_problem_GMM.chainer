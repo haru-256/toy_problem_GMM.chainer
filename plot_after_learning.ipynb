{
 "cells": [
  {
   "cell_type": "code",
   "execution_count": 6,
   "metadata": {},
   "outputs": [],
   "source": [
    "import numpy\n",
    "import chainer\n",
    "from chainer.variable import Variable\n",
    "import matplotlib.pyplot as plt\n",
    "import pathlib\n",
    "from generator import Generator\n",
    "from chainer.serializers import load_npz\n",
    "from utils import plot_kde_data, plot_scatter_data"
   ]
  },
  {
   "cell_type": "code",
   "execution_count": 8,
   "metadata": {},
   "outputs": [],
   "source": [
    "data_size=10000\n",
    "seed=0\n",
    "epochs = [1, 10, 30, 100, 200]"
   ]
  },
  {
   "cell_type": "code",
   "execution_count": 11,
   "metadata": {},
   "outputs": [
    {
     "data": {
      "text/plain": [
       "array([[<matplotlib.axes._subplots.AxesSubplot object at 0x11262dda0>,\n",
       "        <matplotlib.axes._subplots.AxesSubplot object at 0x1126745f8>,\n",
       "        <matplotlib.axes._subplots.AxesSubplot object at 0x1126a1080>,\n",
       "        <matplotlib.axes._subplots.AxesSubplot object at 0x1126c6b00>,\n",
       "        <matplotlib.axes._subplots.AxesSubplot object at 0x1126f35f8>],\n",
       "       [<matplotlib.axes._subplots.AxesSubplot object at 0x112723080>,\n",
       "        <matplotlib.axes._subplots.AxesSubplot object at 0x112748b00>,\n",
       "        <matplotlib.axes._subplots.AxesSubplot object at 0x1127755c0>,\n",
       "        <matplotlib.axes._subplots.AxesSubplot object at 0x1127a5080>,\n",
       "        <matplotlib.axes._subplots.AxesSubplot object at 0x1127c8b00>]],\n",
       "      dtype=object)"
      ]
     },
     "execution_count": 11,
     "metadata": {},
     "output_type": "execute_result"
    }
   ],
   "source": [
    "axes"
   ]
  },
  {
   "cell_type": "code",
   "execution_count": 15,
   "metadata": {},
   "outputs": [
    {
     "data": {
      "image/png": "[encoded data removed]",
      "text/plain": [
       "<Figure size 720x288 with 10 Axes>"
      ]
     },
     "metadata": {},
     "output_type": "display_data"
    }
   ],
   "source": [
    "fig, axes = plt.subplots(2, len(epochs), figsize=(10, 4))\n",
    "for i in axes:\n",
    "    i[0].plot(1, 3)\n",
    "    i[1].plot(10, 30)"
   ]
  },
  {
   "cell_type": "code",
   "execution_count": 2,
   "metadata": {},
   "outputs": [
    {
     "ename": "AttributeError",
     "evalue": "'Generator' object has no attribute 'makehidden'",
     "output_type": "error",
     "traceback": [
      "\u001b[0;31m---------------------------------------------------------------------------\u001b[0m",
      "\u001b[0;31mAttributeError\u001b[0m                            Traceback (most recent call last)",
      "\u001b[0;32m<ipython-input-2-65d5f5888aa3>\u001b[0m in \u001b[0;36m<module>\u001b[0;34m()\u001b[0m\n\u001b[1;32m      3\u001b[0m     \u001b[0mgen\u001b[0m \u001b[0;34m=\u001b[0m \u001b[0mGenerator\u001b[0m\u001b[0;34m(\u001b[0m\u001b[0misBN\u001b[0m\u001b[0;34m=\u001b[0m\u001b[0;32mFalse\u001b[0m\u001b[0;34m)\u001b[0m\u001b[0;34m\u001b[0m\u001b[0m\n\u001b[1;32m      4\u001b[0m     \u001b[0mload_npz\u001b[0m\u001b[0;34m(\u001b[0m\u001b[0mpath\u001b[0m\u001b[0;34m,\u001b[0m \u001b[0mgen\u001b[0m\u001b[0;34m)\u001b[0m\u001b[0;34m\u001b[0m\u001b[0m\n\u001b[0;32m----> 5\u001b[0;31m     \u001b[0mz\u001b[0m \u001b[0;34m=\u001b[0m \u001b[0mgen\u001b[0m\u001b[0;34m.\u001b[0m\u001b[0mmakehidden\u001b[0m\u001b[0;34m(\u001b[0m\u001b[0mbat\u001b[0m\u001b[0;34m)\u001b[0m\u001b[0;34m\u001b[0m\u001b[0m\n\u001b[0m",
      "\u001b[0;31mAttributeError\u001b[0m: 'Generator' object has no attribute 'makehidden'"
     ]
    }
   ],
   "source": [
    "for i in [1, 2, 3,5]:\n",
    "    fig, axes = plt.subplots(2, len(epochs))\n",
    "    for epoch, ax in zip(epochs, axes):\n",
    "        path = pathlib.Path(\"result_{0}/gen_epoch_{1}.npz\".format(i, epochs))\n",
    "        gen = Generator(isBN=False)\n",
    "        load_npz(path, gen)\n",
    "        np.random.seed(seed)\n",
    "        z = gen.make_hidden(batchsize=data_size)\n",
    "        with chainer.using_config('train', False):                                                                               \n",
    "            with chainer.using_config('enable_backprop', False):\n",
    "                z = Variable(gen.make_hidden(batchsize=data_size))\n",
    "                x = gen(z)\n",
    "\n",
    "        plot_kde_data(x, epoch, \"result_{0}_epoch_{1}.jpg\".format(i, epochs))"
   ]
  },
  {
   "cell_type": "code",
   "execution_count": 4,
   "metadata": {},
   "outputs": [
    {
     "ename": "TypeError",
     "evalue": "unsupported operand type(s) for +: 'PosixPath' and 'str'",
     "output_type": "error",
     "traceback": [
      "\u001b[0;31m---------------------------------------------------------------------------\u001b[0m",
      "\u001b[0;31mTypeError\u001b[0m                                 Traceback (most recent call last)",
      "\u001b[0;32m<ipython-input-4-844c6057bede>\u001b[0m in \u001b[0;36m<module>\u001b[0;34m()\u001b[0m\n\u001b[0;32m----> 1\u001b[0;31m \u001b[0mpath\u001b[0m \u001b[0;34m+\u001b[0m \u001b[0;34m\"hoge\"\u001b[0m\u001b[0;34m\u001b[0m\u001b[0m\n\u001b[0m",
      "\u001b[0;31mTypeError\u001b[0m: unsupported operand type(s) for +: 'PosixPath' and 'str'"
     ]
    }
   ],
   "source": []
  },
  {
   "cell_type": "code",
   "execution_count": null,
   "metadata": {},
   "outputs": [],
   "source": []
  }
 ],
 "metadata": {
  "kernelspec": {
   "display_name": "chainer",
   "language": "python",
   "name": "chainer"
  },
  "language_info": {
   "codemirror_mode": {
    "name": "ipython",
    "version": 3
   },
   "file_extension": ".py",
   "mimetype": "text/x-python",
   "name": "python",
   "nbconvert_exporter": "python",
   "pygments_lexer": "ipython3",
   "version": "3.6.5"
  }
 },
 "nbformat": 4,
 "nbformat_minor": 2
}
